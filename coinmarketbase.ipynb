{
 "cells": [
  {
   "cell_type": "code",
   "execution_count": 10,
   "metadata": {},
   "outputs": [
    {
     "data": {
      "text/html": [
       "\n",
       "    <div class=\"bqtv\" id=\"3_153923681597\"><table><tr><th>Count</th></tr><tr><td>3</td></tr></table></div>\n",
       "    <br />(rows: 1, time: 1.3s,    16KB processed, job: job_AMwrfCQuc62BCrveTBVj-LsGJ_Ak)<br />\n",
       "    <script src=\"/static/components/requirejs/require.js\"></script>\n",
       "    <script>\n",
       "      require.config({\n",
       "        paths: {\n",
       "          base: '/static/base',\n",
       "          d3: '//cdnjs.cloudflare.com/ajax/libs/d3/3.4.13/d3',\n",
       "          plotly: 'https://cdn.plot.ly/plotly-1.5.1.min.js?noext',\n",
       "          jquery: '//ajax.googleapis.com/ajax/libs/jquery/2.0.0/jquery.min'\n",
       "        },\n",
       "        map: {\n",
       "          '*': {\n",
       "            datalab: 'nbextensions/gcpdatalab'\n",
       "          }\n",
       "        },\n",
       "        shim: {\n",
       "          plotly: {\n",
       "            deps: ['d3', 'jquery'],\n",
       "            exports: 'plotly'\n",
       "          }\n",
       "        }\n",
       "      });\n",
       "\n",
       "      require(['datalab/charting', 'datalab/element!3_153923681597', 'base/js/events',\n",
       "          'datalab/style!/nbextensions/gcpdatalab/charting.css'],\n",
       "        function(charts, dom, events) {\n",
       "          charts.render('gcharts', dom, events, 'table', [], {\"rows\": [{\"c\": [{\"v\": 3}]}], \"cols\": [{\"type\": \"number\", \"id\": \"Count\", \"label\": \"Count\"}]},\n",
       "            {\n",
       "              pageSize: 25,\n",
       "              cssClassNames:  {\n",
       "                tableRow: 'gchart-table-row',\n",
       "                headerRow: 'gchart-table-headerrow',\n",
       "                oddTableRow: 'gchart-table-oddrow',\n",
       "                selectedTableRow: 'gchart-table-selectedrow',\n",
       "                hoverTableRow: 'gchart-table-hoverrow',\n",
       "                tableCell: 'gchart-table-cell',\n",
       "                headerCell: 'gchart-table-headercell',\n",
       "                rowNumberCell: 'gchart-table-rownumcell'\n",
       "              }\n",
       "            },\n",
       "            {source_index: 2, fields: 'Count'},\n",
       "            0,\n",
       "            1);\n",
       "        }\n",
       "      );\n",
       "    </script>\n",
       "  "
      ],
      "text/plain": [
       "QueryResultsTable job_AMwrfCQuc62BCrveTBVj-LsGJ_Ak"
      ]
     },
     "execution_count": 10,
     "metadata": {},
     "output_type": "execute_result"
    }
   ],
   "source": [
    "%%bq query\n",
    "--How many coins have a USD price greater than $8,000?\n",
    "select  count(*) as Count \n",
    "from crypto.coinmarketcap  \n",
    "where price_usd > 8000"
   ]
  },
  {
   "cell_type": "code",
   "execution_count": 11,
   "metadata": {},
   "outputs": [
    {
     "data": {
      "text/html": [
       "\n",
       "    <div class=\"bqtv\" id=\"4_153923710071\"><table><tr><th>total</th></tr><tr><td>1.9683981048e+11</td></tr></table></div>\n",
       "    <br />(rows: 1, time: 1.2s,    13KB processed, job: job_XIa7mMkfoU6a5UaB_SIgAliagleN)<br />\n",
       "    <script src=\"/static/components/requirejs/require.js\"></script>\n",
       "    <script>\n",
       "      require.config({\n",
       "        paths: {\n",
       "          base: '/static/base',\n",
       "          d3: '//cdnjs.cloudflare.com/ajax/libs/d3/3.4.13/d3',\n",
       "          plotly: 'https://cdn.plot.ly/plotly-1.5.1.min.js?noext',\n",
       "          jquery: '//ajax.googleapis.com/ajax/libs/jquery/2.0.0/jquery.min'\n",
       "        },\n",
       "        map: {\n",
       "          '*': {\n",
       "            datalab: 'nbextensions/gcpdatalab'\n",
       "          }\n",
       "        },\n",
       "        shim: {\n",
       "          plotly: {\n",
       "            deps: ['d3', 'jquery'],\n",
       "            exports: 'plotly'\n",
       "          }\n",
       "        }\n",
       "      });\n",
       "\n",
       "      require(['datalab/charting', 'datalab/element!4_153923710071', 'base/js/events',\n",
       "          'datalab/style!/nbextensions/gcpdatalab/charting.css'],\n",
       "        function(charts, dom, events) {\n",
       "          charts.render('gcharts', dom, events, 'table', [], {\"rows\": [{\"c\": [{\"v\": 196839810480.0}]}], \"cols\": [{\"type\": \"number\", \"id\": \"total\", \"label\": \"total\"}]},\n",
       "            {\n",
       "              pageSize: 25,\n",
       "              cssClassNames:  {\n",
       "                tableRow: 'gchart-table-row',\n",
       "                headerRow: 'gchart-table-headerrow',\n",
       "                oddTableRow: 'gchart-table-oddrow',\n",
       "                selectedTableRow: 'gchart-table-selectedrow',\n",
       "                hoverTableRow: 'gchart-table-hoverrow',\n",
       "                tableCell: 'gchart-table-cell',\n",
       "                headerCell: 'gchart-table-headercell',\n",
       "                rowNumberCell: 'gchart-table-rownumcell'\n",
       "              }\n",
       "            },\n",
       "            {source_index: 3, fields: 'total'},\n",
       "            0,\n",
       "            1);\n",
       "        }\n",
       "      );\n",
       "    </script>\n",
       "  "
      ],
      "text/plain": [
       "QueryResultsTable job_XIa7mMkfoU6a5UaB_SIgAliagleN"
      ]
     },
     "execution_count": 11,
     "metadata": {},
     "output_type": "execute_result"
    }
   ],
   "source": [
    "%%bq query\n",
    "--What is the total market cap of the top 100 cryptocurrencies (in USD)?\n",
    "select sum(market_cap_usd) as total \n",
    "from\n",
    "(\n",
    "  select * \n",
    "  from crypto.coinmarketcap \n",
    "  order by market_cap_usd desc \n",
    "  limit 100\n",
    ") top;"
   ]
  },
  {
   "cell_type": "code",
   "execution_count": 12,
   "metadata": {},
   "outputs": [
    {
     "data": {
      "text/html": [
       "\n",
       "    <div class=\"bqtv\" id=\"5_153923719226\"><table><tr><th>name</th><th>available_supply</th></tr><tr><td>Project-X</td><td>0.0</td></tr><tr><td>42-coin</td><td>42.0</td></tr><tr><td>Bit20</td><td>1.0</td></tr><tr><td>AurumCoin</td><td>298048.0</td></tr><tr><td>IDEX Membership</td><td>2000.0</td></tr><tr><td>iTicoin</td><td>32000.0</td></tr><tr><td>KingN Coin</td><td>2009.0</td></tr><tr><td>bitBTC</td><td>45.0</td></tr><tr><td>Primalbase Token</td><td>1250.0</td></tr><tr><td>Russian Miner Coin</td><td>1507.0</td></tr><tr><td>bitGold</td><td>189.0</td></tr><tr><td>Sovereign Hero</td><td>4773.0</td></tr><tr><td>300 Token</td><td>300.0</td></tr><tr><td>GeyserCoin</td><td>46864.0</td></tr><tr><td>Escroco</td><td>2154500.0</td></tr><tr><td>Gambit</td><td>1154053.0</td></tr><tr><td>Project Coin</td><td>1276166.0</td></tr><tr><td>LiteCoin Ultra</td><td>1031300.0</td></tr><tr><td>CannaCoin</td><td>4702248.0</td></tr><tr><td>0xBitcoin</td><td>3196950.0</td></tr><tr><td>Ether Kingdoms Token</td><td>359939.0</td></tr><tr><td>CrowdCoin</td><td>4322360.0</td></tr><tr><td>BriaCoin</td><td>743431.0</td></tr><tr><td>ACRE</td><td>3004970.0</td></tr><tr><td>Synergy</td><td>4046892.0</td></tr></table></div>\n",
       "    <br />(rows: 243, time: 1.1s,    35KB processed, job: job_D5-sg9hjnO8bRUzMsLp34A-bANC_)<br />\n",
       "    <script src=\"/static/components/requirejs/require.js\"></script>\n",
       "    <script>\n",
       "      require.config({\n",
       "        paths: {\n",
       "          base: '/static/base',\n",
       "          d3: '//cdnjs.cloudflare.com/ajax/libs/d3/3.4.13/d3',\n",
       "          plotly: 'https://cdn.plot.ly/plotly-1.5.1.min.js?noext',\n",
       "          jquery: '//ajax.googleapis.com/ajax/libs/jquery/2.0.0/jquery.min'\n",
       "        },\n",
       "        map: {\n",
       "          '*': {\n",
       "            datalab: 'nbextensions/gcpdatalab'\n",
       "          }\n",
       "        },\n",
       "        shim: {\n",
       "          plotly: {\n",
       "            deps: ['d3', 'jquery'],\n",
       "            exports: 'plotly'\n",
       "          }\n",
       "        }\n",
       "      });\n",
       "\n",
       "      require(['datalab/charting', 'datalab/element!5_153923719226', 'base/js/events',\n",
       "          'datalab/style!/nbextensions/gcpdatalab/charting.css'],\n",
       "        function(charts, dom, events) {\n",
       "          charts.render('gcharts', dom, events, 'paged_table', [], {\"rows\": [{\"c\": [{\"v\": \"Project-X\"}, {\"v\": 0.0}]}, {\"c\": [{\"v\": \"42-coin\"}, {\"v\": 42.0}]}, {\"c\": [{\"v\": \"Bit20\"}, {\"v\": 1.0}]}, {\"c\": [{\"v\": \"AurumCoin\"}, {\"v\": 298048.0}]}, {\"c\": [{\"v\": \"IDEX Membership\"}, {\"v\": 2000.0}]}, {\"c\": [{\"v\": \"iTicoin\"}, {\"v\": 32000.0}]}, {\"c\": [{\"v\": \"KingN Coin\"}, {\"v\": 2009.0}]}, {\"c\": [{\"v\": \"bitBTC\"}, {\"v\": 45.0}]}, {\"c\": [{\"v\": \"Primalbase Token\"}, {\"v\": 1250.0}]}, {\"c\": [{\"v\": \"Russian Miner Coin\"}, {\"v\": 1507.0}]}, {\"c\": [{\"v\": \"bitGold\"}, {\"v\": 189.0}]}, {\"c\": [{\"v\": \"Sovereign Hero\"}, {\"v\": 4773.0}]}, {\"c\": [{\"v\": \"300 Token\"}, {\"v\": 300.0}]}, {\"c\": [{\"v\": \"GeyserCoin\"}, {\"v\": 46864.0}]}, {\"c\": [{\"v\": \"Escroco\"}, {\"v\": 2154500.0}]}, {\"c\": [{\"v\": \"Gambit\"}, {\"v\": 1154053.0}]}, {\"c\": [{\"v\": \"Project Coin\"}, {\"v\": 1276166.0}]}, {\"c\": [{\"v\": \"LiteCoin Ultra\"}, {\"v\": 1031300.0}]}, {\"c\": [{\"v\": \"CannaCoin\"}, {\"v\": 4702248.0}]}, {\"c\": [{\"v\": \"0xBitcoin\"}, {\"v\": 3196950.0}]}, {\"c\": [{\"v\": \"Ether Kingdoms Token\"}, {\"v\": 359939.0}]}, {\"c\": [{\"v\": \"CrowdCoin\"}, {\"v\": 4322360.0}]}, {\"c\": [{\"v\": \"BriaCoin\"}, {\"v\": 743431.0}]}, {\"c\": [{\"v\": \"ACRE\"}, {\"v\": 3004970.0}]}, {\"c\": [{\"v\": \"Synergy\"}, {\"v\": 4046892.0}]}], \"cols\": [{\"type\": \"string\", \"id\": \"name\", \"label\": \"name\"}, {\"type\": \"number\", \"id\": \"available_supply\", \"label\": \"available_supply\"}]},\n",
       "            {\n",
       "              pageSize: 25,\n",
       "              cssClassNames:  {\n",
       "                tableRow: 'gchart-table-row',\n",
       "                headerRow: 'gchart-table-headerrow',\n",
       "                oddTableRow: 'gchart-table-oddrow',\n",
       "                selectedTableRow: 'gchart-table-selectedrow',\n",
       "                hoverTableRow: 'gchart-table-hoverrow',\n",
       "                tableCell: 'gchart-table-cell',\n",
       "                headerCell: 'gchart-table-headercell',\n",
       "                rowNumberCell: 'gchart-table-rownumcell'\n",
       "              }\n",
       "            },\n",
       "            {source_index: 4, fields: 'name,available_supply'},\n",
       "            0,\n",
       "            243);\n",
       "        }\n",
       "      );\n",
       "    </script>\n",
       "  "
      ],
      "text/plain": [
       "QueryResultsTable job_D5-sg9hjnO8bRUzMsLp34A-bANC_"
      ]
     },
     "execution_count": 12,
     "metadata": {},
     "output_type": "execute_result"
    }
   ],
   "source": [
    "%%bq query\n",
    "-- Which coins have an available supply less than $5M?\n",
    "select name,available_supply \n",
    "from crypto.coinmarketcap \n",
    "where available_supply < 5000000"
   ]
  },
  {
   "cell_type": "code",
   "execution_count": 13,
   "metadata": {},
   "outputs": [
    {
     "data": {
      "text/html": [
       "\n",
       "    <div class=\"bqtv\" id=\"6_153923735981\"><table><tr><th>name</th><th>percent_change_7d</th></tr><tr><td>RabbitCoin</td><td>1035.46</td></tr><tr><td>PluraCoin</td><td>297.22</td></tr><tr><td>Bytecent</td><td>212.92</td></tr><tr><td>Moeda Loyalty Points</td><td>207.52</td></tr><tr><td>IQ.cash</td><td>157.33</td></tr></table></div>\n",
       "    <br />(rows: 5, time: 1.2s,    37KB processed, job: job_KVYYIIRU-Y08C6vfR3psnz-HGi4L)<br />\n",
       "    <script src=\"/static/components/requirejs/require.js\"></script>\n",
       "    <script>\n",
       "      require.config({\n",
       "        paths: {\n",
       "          base: '/static/base',\n",
       "          d3: '//cdnjs.cloudflare.com/ajax/libs/d3/3.4.13/d3',\n",
       "          plotly: 'https://cdn.plot.ly/plotly-1.5.1.min.js?noext',\n",
       "          jquery: '//ajax.googleapis.com/ajax/libs/jquery/2.0.0/jquery.min'\n",
       "        },\n",
       "        map: {\n",
       "          '*': {\n",
       "            datalab: 'nbextensions/gcpdatalab'\n",
       "          }\n",
       "        },\n",
       "        shim: {\n",
       "          plotly: {\n",
       "            deps: ['d3', 'jquery'],\n",
       "            exports: 'plotly'\n",
       "          }\n",
       "        }\n",
       "      });\n",
       "\n",
       "      require(['datalab/charting', 'datalab/element!6_153923735981', 'base/js/events',\n",
       "          'datalab/style!/nbextensions/gcpdatalab/charting.css'],\n",
       "        function(charts, dom, events) {\n",
       "          charts.render('gcharts', dom, events, 'table', [], {\"rows\": [{\"c\": [{\"v\": \"RabbitCoin\"}, {\"v\": 1035.46}]}, {\"c\": [{\"v\": \"PluraCoin\"}, {\"v\": 297.22}]}, {\"c\": [{\"v\": \"Bytecent\"}, {\"v\": 212.92}]}, {\"c\": [{\"v\": \"Moeda Loyalty Points\"}, {\"v\": 207.52}]}, {\"c\": [{\"v\": \"IQ.cash\"}, {\"v\": 157.33}]}], \"cols\": [{\"type\": \"string\", \"id\": \"name\", \"label\": \"name\"}, {\"type\": \"number\", \"id\": \"percent_change_7d\", \"label\": \"percent_change_7d\"}]},\n",
       "            {\n",
       "              pageSize: 25,\n",
       "              cssClassNames:  {\n",
       "                tableRow: 'gchart-table-row',\n",
       "                headerRow: 'gchart-table-headerrow',\n",
       "                oddTableRow: 'gchart-table-oddrow',\n",
       "                selectedTableRow: 'gchart-table-selectedrow',\n",
       "                hoverTableRow: 'gchart-table-hoverrow',\n",
       "                tableCell: 'gchart-table-cell',\n",
       "                headerCell: 'gchart-table-headercell',\n",
       "                rowNumberCell: 'gchart-table-rownumcell'\n",
       "              }\n",
       "            },\n",
       "            {source_index: 5, fields: 'name,percent_change_7d'},\n",
       "            0,\n",
       "            5);\n",
       "        }\n",
       "      );\n",
       "    </script>\n",
       "  "
      ],
      "text/plain": [
       "QueryResultsTable job_KVYYIIRU-Y08C6vfR3psnz-HGi4L"
      ]
     },
     "execution_count": 13,
     "metadata": {},
     "output_type": "execute_result"
    }
   ],
   "source": [
    "%%bq query\n",
    "-- Which 5 coins have seen the greatest percentage growth in the last week\n",
    "select name,percent_change_7d \n",
    "from crypto.coinmarketcap\n",
    "order by percent_change_7d desc \n",
    "limit 5"
   ]
  },
  {
   "cell_type": "code",
   "execution_count": 16,
   "metadata": {},
   "outputs": [
    {
     "data": {
      "text/html": [
       "\n",
       "    <div class=\"bqtv\" id=\"8_153923746901\"><table><tr><th>symbol_count</th></tr><tr><td>267</td></tr></table></div>\n",
       "    <br />(rows: 1, time: 0.9s,    11KB processed, job: job_b1IsrWcfPm_-d0iEJK02tchoOfRw)<br />\n",
       "    <script src=\"/static/components/requirejs/require.js\"></script>\n",
       "    <script>\n",
       "      require.config({\n",
       "        paths: {\n",
       "          base: '/static/base',\n",
       "          d3: '//cdnjs.cloudflare.com/ajax/libs/d3/3.4.13/d3',\n",
       "          plotly: 'https://cdn.plot.ly/plotly-1.5.1.min.js?noext',\n",
       "          jquery: '//ajax.googleapis.com/ajax/libs/jquery/2.0.0/jquery.min'\n",
       "        },\n",
       "        map: {\n",
       "          '*': {\n",
       "            datalab: 'nbextensions/gcpdatalab'\n",
       "          }\n",
       "        },\n",
       "        shim: {\n",
       "          plotly: {\n",
       "            deps: ['d3', 'jquery'],\n",
       "            exports: 'plotly'\n",
       "          }\n",
       "        }\n",
       "      });\n",
       "\n",
       "      require(['datalab/charting', 'datalab/element!8_153923746901', 'base/js/events',\n",
       "          'datalab/style!/nbextensions/gcpdatalab/charting.css'],\n",
       "        function(charts, dom, events) {\n",
       "          charts.render('gcharts', dom, events, 'table', [], {\"rows\": [{\"c\": [{\"v\": 267}]}], \"cols\": [{\"type\": \"number\", \"id\": \"symbol_count\", \"label\": \"symbol_count\"}]},\n",
       "            {\n",
       "              pageSize: 25,\n",
       "              cssClassNames:  {\n",
       "                tableRow: 'gchart-table-row',\n",
       "                headerRow: 'gchart-table-headerrow',\n",
       "                oddTableRow: 'gchart-table-oddrow',\n",
       "                selectedTableRow: 'gchart-table-selectedrow',\n",
       "                hoverTableRow: 'gchart-table-hoverrow',\n",
       "                tableCell: 'gchart-table-cell',\n",
       "                headerCell: 'gchart-table-headercell',\n",
       "                rowNumberCell: 'gchart-table-rownumcell'\n",
       "              }\n",
       "            },\n",
       "            {source_index: 7, fields: 'symbol_count'},\n",
       "            0,\n",
       "            1);\n",
       "        }\n",
       "      );\n",
       "    </script>\n",
       "  "
      ],
      "text/plain": [
       "QueryResultsTable job_b1IsrWcfPm_-d0iEJK02tchoOfRw"
      ]
     },
     "execution_count": 16,
     "metadata": {},
     "output_type": "execute_result"
    }
   ],
   "source": [
    "%%bq query\n",
    "-- How many ticker symbols contain the letter \"X\" ?\n",
    "select count(symbol) as symbol_count\n",
    "from crypto.coinmarketcap \n",
    "where symbol like '%X%'"
   ]
  },
  {
   "cell_type": "code",
   "execution_count": null,
   "metadata": {},
   "outputs": [],
   "source": []
  }
 ],
 "metadata": {
  "kernelspec": {
   "display_name": "Python 2",
   "language": "python",
   "name": "python2"
  },
  "language_info": {
   "codemirror_mode": {
    "name": "ipython",
    "version": 2
   },
   "file_extension": ".py",
   "mimetype": "text/x-python",
   "name": "python",
   "nbconvert_exporter": "python",
   "pygments_lexer": "ipython2",
   "version": "2.7.15"
  }
 },
 "nbformat": 4,
 "nbformat_minor": 2
}
